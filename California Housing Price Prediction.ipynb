{
 "cells": [
  {
   "cell_type": "code",
   "execution_count": 1,
   "id": "41c3768d",
   "metadata": {},
   "outputs": [],
   "source": [
    "#Libraries\n",
    "\n",
    "#Here all libraries required for current project are running in one go.\n",
    "\n",
    "import pandas as pd #It provides ready to use high-performance data structures and data analysis tools\n",
    "\n",
    "import numpy as np # It is used for working with arrays\n",
    "\n",
    "import seaborn as sns #Visualize Distributions\n",
    "\n",
    "import matplotlib.pyplot as plt #It is used to create 2D graphs and plots\n",
    "\n",
    "import warnings\n",
    "warnings.filterwarnings('ignore') #To ignore warnings\n",
    "\n",
    "from sklearn import preprocessing #used for encoding\n",
    "\n",
    "from sklearn.model_selection import train_test_split #to take train and test for model\n",
    "\n",
    "from sklearn.linear_model import LinearRegression # for Linear Regression\n",
    "\n",
    "from sklearn.metrics import mean_squared_error, mean_absolute_error"
   ]
  },
  {
   "cell_type": "markdown",
   "id": "1cc0f558",
   "metadata": {},
   "source": [
    "#### 1. Load the data :\n",
    "\n",
    "    Read the “housing.csv” file from the folder into the program.\n",
    "    Print first few rows of this data.\n",
    "    Extract input (X) and output (Y) data from the dataset."
   ]
  },
  {
   "cell_type": "code",
   "execution_count": 2,
   "id": "7ffb105d",
   "metadata": {},
   "outputs": [],
   "source": [
    "df = pd.read_excel('1553768847_housing.xlsx')"
   ]
  },
  {
   "cell_type": "code",
   "execution_count": 3,
   "id": "0399bdc7",
   "metadata": {},
   "outputs": [
    {
     "data": {
      "text/html": [
       "<div>\n",
       "<style scoped>\n",
       "    .dataframe tbody tr th:only-of-type {\n",
       "        vertical-align: middle;\n",
       "    }\n",
       "\n",
       "    .dataframe tbody tr th {\n",
       "        vertical-align: top;\n",
       "    }\n",
       "\n",
       "    .dataframe thead th {\n",
       "        text-align: right;\n",
       "    }\n",
       "</style>\n",
       "<table border=\"1\" class=\"dataframe\">\n",
       "  <thead>\n",
       "    <tr style=\"text-align: right;\">\n",
       "      <th></th>\n",
       "      <th>longitude</th>\n",
       "      <th>latitude</th>\n",
       "      <th>housing_median_age</th>\n",
       "      <th>total_rooms</th>\n",
       "      <th>total_bedrooms</th>\n",
       "      <th>population</th>\n",
       "      <th>households</th>\n",
       "      <th>median_income</th>\n",
       "      <th>ocean_proximity</th>\n",
       "      <th>median_house_value</th>\n",
       "    </tr>\n",
       "  </thead>\n",
       "  <tbody>\n",
       "    <tr>\n",
       "      <th>0</th>\n",
       "      <td>-122.23</td>\n",
       "      <td>37.88</td>\n",
       "      <td>41</td>\n",
       "      <td>880</td>\n",
       "      <td>129.0</td>\n",
       "      <td>322</td>\n",
       "      <td>126</td>\n",
       "      <td>8.3252</td>\n",
       "      <td>NEAR BAY</td>\n",
       "      <td>452600</td>\n",
       "    </tr>\n",
       "    <tr>\n",
       "      <th>1</th>\n",
       "      <td>-122.22</td>\n",
       "      <td>37.86</td>\n",
       "      <td>21</td>\n",
       "      <td>7099</td>\n",
       "      <td>1106.0</td>\n",
       "      <td>2401</td>\n",
       "      <td>1138</td>\n",
       "      <td>8.3014</td>\n",
       "      <td>NEAR BAY</td>\n",
       "      <td>358500</td>\n",
       "    </tr>\n",
       "    <tr>\n",
       "      <th>2</th>\n",
       "      <td>-122.24</td>\n",
       "      <td>37.85</td>\n",
       "      <td>52</td>\n",
       "      <td>1467</td>\n",
       "      <td>190.0</td>\n",
       "      <td>496</td>\n",
       "      <td>177</td>\n",
       "      <td>7.2574</td>\n",
       "      <td>NEAR BAY</td>\n",
       "      <td>352100</td>\n",
       "    </tr>\n",
       "    <tr>\n",
       "      <th>3</th>\n",
       "      <td>-122.25</td>\n",
       "      <td>37.85</td>\n",
       "      <td>52</td>\n",
       "      <td>1274</td>\n",
       "      <td>235.0</td>\n",
       "      <td>558</td>\n",
       "      <td>219</td>\n",
       "      <td>5.6431</td>\n",
       "      <td>NEAR BAY</td>\n",
       "      <td>341300</td>\n",
       "    </tr>\n",
       "    <tr>\n",
       "      <th>4</th>\n",
       "      <td>-122.25</td>\n",
       "      <td>37.85</td>\n",
       "      <td>52</td>\n",
       "      <td>1627</td>\n",
       "      <td>280.0</td>\n",
       "      <td>565</td>\n",
       "      <td>259</td>\n",
       "      <td>3.8462</td>\n",
       "      <td>NEAR BAY</td>\n",
       "      <td>342200</td>\n",
       "    </tr>\n",
       "  </tbody>\n",
       "</table>\n",
       "</div>"
      ],
      "text/plain": [
       "   longitude  latitude  housing_median_age  total_rooms  total_bedrooms  \\\n",
       "0    -122.23     37.88                  41          880           129.0   \n",
       "1    -122.22     37.86                  21         7099          1106.0   \n",
       "2    -122.24     37.85                  52         1467           190.0   \n",
       "3    -122.25     37.85                  52         1274           235.0   \n",
       "4    -122.25     37.85                  52         1627           280.0   \n",
       "\n",
       "   population  households  median_income ocean_proximity  median_house_value  \n",
       "0         322         126         8.3252        NEAR BAY              452600  \n",
       "1        2401        1138         8.3014        NEAR BAY              358500  \n",
       "2         496         177         7.2574        NEAR BAY              352100  \n",
       "3         558         219         5.6431        NEAR BAY              341300  \n",
       "4         565         259         3.8462        NEAR BAY              342200  "
      ]
     },
     "execution_count": 3,
     "metadata": {},
     "output_type": "execute_result"
    }
   ],
   "source": [
    "df.head()"
   ]
  },
  {
   "cell_type": "code",
   "execution_count": 4,
   "id": "321091f4",
   "metadata": {},
   "outputs": [
    {
     "name": "stdout",
     "output_type": "stream",
     "text": [
      "<class 'pandas.core.frame.DataFrame'>\n",
      "RangeIndex: 20640 entries, 0 to 20639\n",
      "Data columns (total 10 columns):\n",
      " #   Column              Non-Null Count  Dtype  \n",
      "---  ------              --------------  -----  \n",
      " 0   longitude           20640 non-null  float64\n",
      " 1   latitude            20640 non-null  float64\n",
      " 2   housing_median_age  20640 non-null  int64  \n",
      " 3   total_rooms         20640 non-null  int64  \n",
      " 4   total_bedrooms      20433 non-null  float64\n",
      " 5   population          20640 non-null  int64  \n",
      " 6   households          20640 non-null  int64  \n",
      " 7   median_income       20640 non-null  float64\n",
      " 8   ocean_proximity     20640 non-null  object \n",
      " 9   median_house_value  20640 non-null  int64  \n",
      "dtypes: float64(4), int64(5), object(1)\n",
      "memory usage: 1.6+ MB\n"
     ]
    }
   ],
   "source": [
    "df.info()"
   ]
  },
  {
   "cell_type": "code",
   "execution_count": 5,
   "id": "6e74e632",
   "metadata": {},
   "outputs": [
    {
     "name": "stdout",
     "output_type": "stream",
     "text": [
      "       longitude  latitude  housing_median_age  total_rooms  total_bedrooms  \\\n",
      "0        -122.23     37.88                  41          880           129.0   \n",
      "1        -122.22     37.86                  21         7099          1106.0   \n",
      "2        -122.24     37.85                  52         1467           190.0   \n",
      "3        -122.25     37.85                  52         1274           235.0   \n",
      "4        -122.25     37.85                  52         1627           280.0   \n",
      "...          ...       ...                 ...          ...             ...   \n",
      "20635    -121.09     39.48                  25         1665           374.0   \n",
      "20636    -121.21     39.49                  18          697           150.0   \n",
      "20637    -121.22     39.43                  17         2254           485.0   \n",
      "20638    -121.32     39.43                  18         1860           409.0   \n",
      "20639    -121.24     39.37                  16         2785           616.0   \n",
      "\n",
      "       population  households  median_income ocean_proximity  \n",
      "0             322         126         8.3252        NEAR BAY  \n",
      "1            2401        1138         8.3014        NEAR BAY  \n",
      "2             496         177         7.2574        NEAR BAY  \n",
      "3             558         219         5.6431        NEAR BAY  \n",
      "4             565         259         3.8462        NEAR BAY  \n",
      "...           ...         ...            ...             ...  \n",
      "20635         845         330         1.5603          INLAND  \n",
      "20636         356         114         2.5568          INLAND  \n",
      "20637        1007         433         1.7000          INLAND  \n",
      "20638         741         349         1.8672          INLAND  \n",
      "20639        1387         530         2.3886          INLAND  \n",
      "\n",
      "[20640 rows x 9 columns] 0        452600\n",
      "1        358500\n",
      "2        352100\n",
      "3        341300\n",
      "4        342200\n",
      "          ...  \n",
      "20635     78100\n",
      "20636     77100\n",
      "20637     92300\n",
      "20638     84700\n",
      "20639     89400\n",
      "Name: median_house_value, Length: 20640, dtype: int64\n"
     ]
    }
   ],
   "source": [
    "df_x = df.drop('median_house_value', axis = 1) #independent variable/features\n",
    "\n",
    "df_y = df['median_house_value']  #dependent variable/target\n",
    "\n",
    "\n",
    "print(df_x, df_y)"
   ]
  },
  {
   "cell_type": "code",
   "execution_count": 6,
   "id": "906696c6",
   "metadata": {
    "scrolled": true
   },
   "outputs": [
    {
     "name": "stdout",
     "output_type": "stream",
     "text": [
      "<class 'pandas.core.frame.DataFrame'>\n",
      "RangeIndex: 20640 entries, 0 to 20639\n",
      "Data columns (total 9 columns):\n",
      " #   Column              Non-Null Count  Dtype  \n",
      "---  ------              --------------  -----  \n",
      " 0   longitude           20640 non-null  float64\n",
      " 1   latitude            20640 non-null  float64\n",
      " 2   housing_median_age  20640 non-null  int64  \n",
      " 3   total_rooms         20640 non-null  int64  \n",
      " 4   total_bedrooms      20433 non-null  float64\n",
      " 5   population          20640 non-null  int64  \n",
      " 6   households          20640 non-null  int64  \n",
      " 7   median_income       20640 non-null  float64\n",
      " 8   ocean_proximity     20640 non-null  object \n",
      "dtypes: float64(4), int64(4), object(1)\n",
      "memory usage: 1.4+ MB\n"
     ]
    }
   ],
   "source": [
    "df_x.info() #20640 rows and 9 columns"
   ]
  },
  {
   "cell_type": "code",
   "execution_count": 7,
   "id": "3444d3d2",
   "metadata": {},
   "outputs": [
    {
     "name": "stdout",
     "output_type": "stream",
     "text": [
      "<class 'pandas.core.series.Series'>\n",
      "RangeIndex: 20640 entries, 0 to 20639\n",
      "Series name: median_house_value\n",
      "Non-Null Count  Dtype\n",
      "--------------  -----\n",
      "20640 non-null  int64\n",
      "dtypes: int64(1)\n",
      "memory usage: 161.4 KB\n"
     ]
    }
   ],
   "source": [
    "df_y.info() #20640 rows and 1 column"
   ]
  },
  {
   "cell_type": "code",
   "execution_count": 8,
   "id": "2f253a30",
   "metadata": {},
   "outputs": [
    {
     "name": "stdout",
     "output_type": "stream",
     "text": [
      "longitude\n"
     ]
    },
    {
     "data": {
      "image/png": "[encoded data removed]",
      "text/plain": [
       "<Figure size 432x288 with 1 Axes>"
      ]
     },
     "metadata": {
      "needs_background": "light"
     },
     "output_type": "display_data"
    },
    {
     "name": "stdout",
     "output_type": "stream",
     "text": [
      "latitude\n"
     ]
    },
    {
     "data": {
      "image/png": "[encoded data removed]",
      "text/plain": [
       "<Figure size 432x288 with 1 Axes>"
      ]
     },
     "metadata": {
      "needs_background": "light"
     },
     "output_type": "display_data"
    },
    {
     "name": "stdout",
     "output_type": "stream",
     "text": [
      "housing_median_age\n"
     ]
    },
    {
     "data": {
      "image/png": "[encoded data removed]",
      "text/plain": [
       "<Figure size 432x288 with 1 Axes>"
      ]
     },
     "metadata": {
      "needs_background": "light"
     },
     "output_type": "display_data"
    },
    {
     "name": "stdout",
     "output_type": "stream",
     "text": [
      "total_rooms\n"
     ]
    },
    {
     "data": {
      "image/png": "[encoded data removed]",
      "text/plain": [
       "<Figure size 432x288 with 1 Axes>"
      ]
     },
     "metadata": {
      "needs_background": "light"
     },
     "output_type": "display_data"
    },
    {
     "name": "stdout",
     "output_type": "stream",
     "text": [
      "total_bedrooms\n"
     ]
    },
    {
     "data": {
      "image/png": "[encoded data removed]",
      "text/plain": [
       "<Figure size 432x288 with 1 Axes>"
      ]
     },
     "metadata": {
      "needs_background": "light"
     },
     "output_type": "display_data"
    },
    {
     "name": "stdout",
     "output_type": "stream",
     "text": [
      "population\n"
     ]
    },
    {
     "data": {
      "image/png": "[encoded data removed]",
      "text/plain": [
       "<Figure size 432x288 with 1 Axes>"
      ]
     },
     "metadata": {
      "needs_background": "light"
     },
     "output_type": "display_data"
    },
    {
     "name": "stdout",
     "output_type": "stream",
     "text": [
      "households\n"
     ]
    },
    {
     "data": {
      "image/png": "[encoded data removed]",
      "text/plain": [
       "<Figure size 432x288 with 1 Axes>"
      ]
     },
     "metadata": {
      "needs_background": "light"
     },
     "output_type": "display_data"
    },
    {
     "name": "stdout",
     "output_type": "stream",
     "text": [
      "median_income\n"
     ]
    },
    {
     "data": {
      "image/png": "[encoded data removed]",
      "text/plain": [
       "<Figure size 432x288 with 1 Axes>"
      ]
     },
     "metadata": {
      "needs_background": "light"
     },
     "output_type": "display_data"
    },
    {
     "name": "stdout",
     "output_type": "stream",
     "text": [
      "median_house_value\n"
     ]
    },
    {
     "data": {
      "image/png": "[encoded data removed]",
      "text/plain": [
       "<Figure size 432x288 with 1 Axes>"
      ]
     },
     "metadata": {
      "needs_background": "light"
     },
     "output_type": "display_data"
    },
    {
     "name": "stdout",
     "output_type": "stream",
     "text": [
      "       longitude  latitude  housing_median_age  total_rooms  total_bedrooms  \\\n",
      "0        -122.23     37.88                41.0      880.000           129.0   \n",
      "1        -122.22     37.86                21.0     5698.375          1106.0   \n",
      "2        -122.24     37.85                52.0     1467.000           190.0   \n",
      "3        -122.25     37.85                52.0     1274.000           235.0   \n",
      "4        -122.25     37.85                52.0     1627.000           280.0   \n",
      "...          ...       ...                 ...          ...             ...   \n",
      "20635    -121.09     39.48                25.0     1665.000           374.0   \n",
      "20636    -121.21     39.49                18.0      697.000           150.0   \n",
      "20637    -121.22     39.43                17.0     2254.000           485.0   \n",
      "20638    -121.32     39.43                18.0     1860.000           409.0   \n",
      "20639    -121.24     39.37                16.0     2785.000           616.0   \n",
      "\n",
      "       population  households  median_income ocean_proximity  \\\n",
      "0           322.0       126.0       8.013025        NEAR BAY   \n",
      "1          2401.0      1092.5       8.013025        NEAR BAY   \n",
      "2           496.0       177.0       7.257400        NEAR BAY   \n",
      "3           558.0       219.0       5.643100        NEAR BAY   \n",
      "4           565.0       259.0       3.846200        NEAR BAY   \n",
      "...           ...         ...            ...             ...   \n",
      "20635       845.0       330.0       1.560300          INLAND   \n",
      "20636       356.0       114.0       2.556800          INLAND   \n",
      "20637      1007.0       433.0       1.700000          INLAND   \n",
      "20638       741.0       349.0       1.867200          INLAND   \n",
      "20639      1387.0       530.0       2.388600          INLAND   \n",
      "\n",
      "       median_house_value  \n",
      "0                452600.0  \n",
      "1                358500.0  \n",
      "2                352100.0  \n",
      "3                341300.0  \n",
      "4                342200.0  \n",
      "...                   ...  \n",
      "20635             78100.0  \n",
      "20636             77100.0  \n",
      "20637             92300.0  \n",
      "20638             84700.0  \n",
      "20639             89400.0  \n",
      "\n",
      "[20640 rows x 10 columns]\n",
      "longitude\n"
     ]
    },
    {
     "data": {
      "image/png": "[encoded data removed]",
      "text/plain": [
       "<Figure size 432x288 with 1 Axes>"
      ]
     },
     "metadata": {
      "needs_background": "light"
     },
     "output_type": "display_data"
    },
    {
     "name": "stdout",
     "output_type": "stream",
     "text": [
      "latitude\n"
     ]
    },
    {
     "data": {
      "image/png": "[encoded data removed]",
      "text/plain": [
       "<Figure size 432x288 with 1 Axes>"
      ]
     },
     "metadata": {
      "needs_background": "light"
     },
     "output_type": "display_data"
    },
    {
     "name": "stdout",
     "output_type": "stream",
     "text": [
      "housing_median_age\n"
     ]
    },
    {
     "data": {
      "image/png": "[encoded data removed]",
      "text/plain": [
       "<Figure size 432x288 with 1 Axes>"
      ]
     },
     "metadata": {
      "needs_background": "light"
     },
     "output_type": "display_data"
    },
    {
     "name": "stdout",
     "output_type": "stream",
     "text": [
      "total_rooms\n"
     ]
    },
    {
     "data": {
      "image/png": "[encoded data removed]",
      "text/plain": [
       "<Figure size 432x288 with 1 Axes>"
      ]
     },
     "metadata": {
      "needs_background": "light"
     },
     "output_type": "display_data"
    },
    {
     "name": "stdout",
     "output_type": "stream",
     "text": [
      "total_bedrooms\n"
     ]
    },
    {
     "data": {
      "image/png": "[encoded data removed]",
      "text/plain": [
       "<Figure size 432x288 with 1 Axes>"
      ]
     },
     "metadata": {
      "needs_background": "light"
     },
     "output_type": "display_data"
    },
    {
     "name": "stdout",
     "output_type": "stream",
     "text": [
      "population\n"
     ]
    },
    {
     "data": {
      "image/png": "[encoded data removed]",
      "text/plain": [
       "<Figure size 432x288 with 1 Axes>"
      ]
     },
     "metadata": {
      "needs_background": "light"
     },
     "output_type": "display_data"
    },
    {
     "name": "stdout",
     "output_type": "stream",
     "text": [
      "households\n"
     ]
    },
    {
     "data": {
      "image/png": "[encoded data removed]",
      "text/plain": [
       "<Figure size 432x288 with 1 Axes>"
      ]
     },
     "metadata": {
      "needs_background": "light"
     },
     "output_type": "display_data"
    },
    {
     "name": "stdout",
     "output_type": "stream",
     "text": [
      "median_income\n"
     ]
    },
    {
     "data": {
      "image/png": "[encoded data removed]",
      "text/plain": [
       "<Figure size 432x288 with 1 Axes>"
      ]
     },
     "metadata": {
      "needs_background": "light"
     },
     "output_type": "display_data"
    },
    {
     "name": "stdout",
     "output_type": "stream",
     "text": [
      "median_house_value\n"
     ]
    },
    {
     "data": {
      "image/png": "[encoded data removed]",
      "text/plain": [
       "<Figure size 432x288 with 1 Axes>"
      ]
     },
     "metadata": {
      "needs_background": "light"
     },
     "output_type": "display_data"
    }
   ],
   "source": [
    "#BELOW CODE NOT PERFORMED\n",
    "\n",
    "#For the Data not done outlier treatment, i wanted to go with raw data. Below is the code for outlier treatment\\\n",
    "#but it is not run for programming. Below is the code just i pointed out the outliers and treatment.\n",
    "\n",
    "# Plotting Boxplot to see outliners\n",
    "\n",
    "for i in df.columns:\n",
    "    if i == 'ocean_proximity':\n",
    "        continue\n",
    "    print(i)\n",
    "    sns.boxplot(df[i])\n",
    "    plt.show()\n",
    "    \n",
    "#Outlier Treatment\n",
    "\n",
    "def fn(data, cols):\n",
    "    for col in cols:\n",
    "        if data[col].dtype != object:\n",
    "            q1,q3 = data[col].quantile([0.25,0.75])\n",
    "            iqr = q3-q1\n",
    "            upper = q3+(1.5*iqr)\n",
    "            lower = q1-(1.5*iqr)\n",
    "        \n",
    "            data[col] = np.where(data[col]>upper,upper,data[col])\n",
    "            data[col] = np.where(data[col]<lower,lower,data[col]) \n",
    "    return data\n",
    "\n",
    "df2 = df\n",
    "\n",
    "df2 = fn(df2, df2.columns)\n",
    "\n",
    "print(df2)\n",
    "\n",
    "#Plotting Boxplot to see outliners is corrected.\n",
    "\n",
    "for i in df2.columns:\n",
    "    if i == 'ocean_proximity':\n",
    "        continue\n",
    "    print(i)\n",
    "    sns.boxplot(df2[i])\n",
    "    plt.show()"
   ]
  },
  {
   "cell_type": "markdown",
   "id": "3d46eff0",
   "metadata": {},
   "source": [
    "#### 2. Handle missing values :\n",
    "\n",
    "    Fill the missing values with the mean of the respective column."
   ]
  },
  {
   "cell_type": "code",
   "execution_count": 9,
   "id": "68a9893b",
   "metadata": {},
   "outputs": [
    {
     "data": {
      "text/plain": [
       "longitude               0\n",
       "latitude                0\n",
       "housing_median_age      0\n",
       "total_rooms             0\n",
       "total_bedrooms        207\n",
       "population              0\n",
       "households              0\n",
       "median_income           0\n",
       "ocean_proximity         0\n",
       "median_house_value      0\n",
       "dtype: int64"
      ]
     },
     "execution_count": 9,
     "metadata": {},
     "output_type": "execute_result"
    }
   ],
   "source": [
    "df.isnull().sum()\n",
    "\n",
    "df.isna().sum()"
   ]
  },
  {
   "cell_type": "code",
   "execution_count": 10,
   "id": "1dccf057",
   "metadata": {},
   "outputs": [
    {
     "data": {
      "text/plain": [
       "longitude               0\n",
       "latitude                0\n",
       "housing_median_age      0\n",
       "total_rooms             0\n",
       "total_bedrooms        207\n",
       "population              0\n",
       "households              0\n",
       "median_income           0\n",
       "ocean_proximity         0\n",
       "dtype: int64"
      ]
     },
     "execution_count": 10,
     "metadata": {},
     "output_type": "execute_result"
    }
   ],
   "source": [
    "df_x.isnull().sum() #we observed that there is 207 missing values in total_bedrooms column, it need to treat now."
   ]
  },
  {
   "cell_type": "code",
   "execution_count": 11,
   "id": "b3b4e5f9",
   "metadata": {},
   "outputs": [
    {
     "data": {
      "text/html": [
       "<div>\n",
       "<style scoped>\n",
       "    .dataframe tbody tr th:only-of-type {\n",
       "        vertical-align: middle;\n",
       "    }\n",
       "\n",
       "    .dataframe tbody tr th {\n",
       "        vertical-align: top;\n",
       "    }\n",
       "\n",
       "    .dataframe thead th {\n",
       "        text-align: right;\n",
       "    }\n",
       "</style>\n",
       "<table border=\"1\" class=\"dataframe\">\n",
       "  <thead>\n",
       "    <tr style=\"text-align: right;\">\n",
       "      <th></th>\n",
       "      <th>longitude</th>\n",
       "      <th>latitude</th>\n",
       "      <th>housing_median_age</th>\n",
       "      <th>total_rooms</th>\n",
       "      <th>total_bedrooms</th>\n",
       "      <th>population</th>\n",
       "      <th>households</th>\n",
       "      <th>median_income</th>\n",
       "      <th>ocean_proximity</th>\n",
       "    </tr>\n",
       "  </thead>\n",
       "  <tbody>\n",
       "    <tr>\n",
       "      <th>0</th>\n",
       "      <td>-122.23</td>\n",
       "      <td>37.88</td>\n",
       "      <td>41</td>\n",
       "      <td>880</td>\n",
       "      <td>129.0</td>\n",
       "      <td>322</td>\n",
       "      <td>126</td>\n",
       "      <td>8.3252</td>\n",
       "      <td>NEAR BAY</td>\n",
       "    </tr>\n",
       "    <tr>\n",
       "      <th>1</th>\n",
       "      <td>-122.22</td>\n",
       "      <td>37.86</td>\n",
       "      <td>21</td>\n",
       "      <td>7099</td>\n",
       "      <td>1106.0</td>\n",
       "      <td>2401</td>\n",
       "      <td>1138</td>\n",
       "      <td>8.3014</td>\n",
       "      <td>NEAR BAY</td>\n",
       "    </tr>\n",
       "    <tr>\n",
       "      <th>2</th>\n",
       "      <td>-122.24</td>\n",
       "      <td>37.85</td>\n",
       "      <td>52</td>\n",
       "      <td>1467</td>\n",
       "      <td>190.0</td>\n",
       "      <td>496</td>\n",
       "      <td>177</td>\n",
       "      <td>7.2574</td>\n",
       "      <td>NEAR BAY</td>\n",
       "    </tr>\n",
       "    <tr>\n",
       "      <th>3</th>\n",
       "      <td>-122.25</td>\n",
       "      <td>37.85</td>\n",
       "      <td>52</td>\n",
       "      <td>1274</td>\n",
       "      <td>235.0</td>\n",
       "      <td>558</td>\n",
       "      <td>219</td>\n",
       "      <td>5.6431</td>\n",
       "      <td>NEAR BAY</td>\n",
       "    </tr>\n",
       "    <tr>\n",
       "      <th>4</th>\n",
       "      <td>-122.25</td>\n",
       "      <td>37.85</td>\n",
       "      <td>52</td>\n",
       "      <td>1627</td>\n",
       "      <td>280.0</td>\n",
       "      <td>565</td>\n",
       "      <td>259</td>\n",
       "      <td>3.8462</td>\n",
       "      <td>NEAR BAY</td>\n",
       "    </tr>\n",
       "  </tbody>\n",
       "</table>\n",
       "</div>"
      ],
      "text/plain": [
       "   longitude  latitude  housing_median_age  total_rooms  total_bedrooms  \\\n",
       "0    -122.23     37.88                  41          880           129.0   \n",
       "1    -122.22     37.86                  21         7099          1106.0   \n",
       "2    -122.24     37.85                  52         1467           190.0   \n",
       "3    -122.25     37.85                  52         1274           235.0   \n",
       "4    -122.25     37.85                  52         1627           280.0   \n",
       "\n",
       "   population  households  median_income ocean_proximity  \n",
       "0         322         126         8.3252        NEAR BAY  \n",
       "1        2401        1138         8.3014        NEAR BAY  \n",
       "2         496         177         7.2574        NEAR BAY  \n",
       "3         558         219         5.6431        NEAR BAY  \n",
       "4         565         259         3.8462        NEAR BAY  "
      ]
     },
     "execution_count": 11,
     "metadata": {},
     "output_type": "execute_result"
    }
   ],
   "source": [
    "#Treating missing values with mean value\n",
    "\n",
    "value = int(df_x['total_bedrooms'].mean())\n",
    "\n",
    "df_x['total_bedrooms'].fillna(value, inplace = True)\n",
    "\n",
    "df_x.head()"
   ]
  },
  {
   "cell_type": "code",
   "execution_count": 12,
   "id": "47a252af",
   "metadata": {},
   "outputs": [
    {
     "data": {
      "text/plain": [
       "longitude             0\n",
       "latitude              0\n",
       "housing_median_age    0\n",
       "total_rooms           0\n",
       "total_bedrooms        0\n",
       "population            0\n",
       "households            0\n",
       "median_income         0\n",
       "ocean_proximity       0\n",
       "dtype: int64"
      ]
     },
     "execution_count": 12,
     "metadata": {},
     "output_type": "execute_result"
    }
   ],
   "source": [
    "df_x.isnull().sum() #now there is no null values in x"
   ]
  },
  {
   "cell_type": "code",
   "execution_count": 13,
   "id": "2833b190",
   "metadata": {},
   "outputs": [
    {
     "data": {
      "text/plain": [
       "0"
      ]
     },
     "execution_count": 13,
     "metadata": {},
     "output_type": "execute_result"
    }
   ],
   "source": [
    "df_y.isnull().sum() #zero null values in y "
   ]
  },
  {
   "cell_type": "markdown",
   "id": "6a50aa20",
   "metadata": {},
   "source": [
    "#### 3. Encode categorical data :\n",
    "\n",
    "    Convert categorical column in the dataset to numerical data."
   ]
  },
  {
   "cell_type": "code",
   "execution_count": 14,
   "id": "e8c1739c",
   "metadata": {},
   "outputs": [
    {
     "data": {
      "text/html": [
       "<div>\n",
       "<style scoped>\n",
       "    .dataframe tbody tr th:only-of-type {\n",
       "        vertical-align: middle;\n",
       "    }\n",
       "\n",
       "    .dataframe tbody tr th {\n",
       "        vertical-align: top;\n",
       "    }\n",
       "\n",
       "    .dataframe thead th {\n",
       "        text-align: right;\n",
       "    }\n",
       "</style>\n",
       "<table border=\"1\" class=\"dataframe\">\n",
       "  <thead>\n",
       "    <tr style=\"text-align: right;\">\n",
       "      <th></th>\n",
       "      <th>longitude</th>\n",
       "      <th>latitude</th>\n",
       "      <th>housing_median_age</th>\n",
       "      <th>total_rooms</th>\n",
       "      <th>total_bedrooms</th>\n",
       "      <th>population</th>\n",
       "      <th>households</th>\n",
       "      <th>median_income</th>\n",
       "      <th>ocean_proximity</th>\n",
       "    </tr>\n",
       "  </thead>\n",
       "  <tbody>\n",
       "    <tr>\n",
       "      <th>0</th>\n",
       "      <td>-122.23</td>\n",
       "      <td>37.88</td>\n",
       "      <td>41</td>\n",
       "      <td>880</td>\n",
       "      <td>129.0</td>\n",
       "      <td>322</td>\n",
       "      <td>126</td>\n",
       "      <td>8.3252</td>\n",
       "      <td>NEAR BAY</td>\n",
       "    </tr>\n",
       "    <tr>\n",
       "      <th>1</th>\n",
       "      <td>-122.22</td>\n",
       "      <td>37.86</td>\n",
       "      <td>21</td>\n",
       "      <td>7099</td>\n",
       "      <td>1106.0</td>\n",
       "      <td>2401</td>\n",
       "      <td>1138</td>\n",
       "      <td>8.3014</td>\n",
       "      <td>NEAR BAY</td>\n",
       "    </tr>\n",
       "    <tr>\n",
       "      <th>2</th>\n",
       "      <td>-122.24</td>\n",
       "      <td>37.85</td>\n",
       "      <td>52</td>\n",
       "      <td>1467</td>\n",
       "      <td>190.0</td>\n",
       "      <td>496</td>\n",
       "      <td>177</td>\n",
       "      <td>7.2574</td>\n",
       "      <td>NEAR BAY</td>\n",
       "    </tr>\n",
       "    <tr>\n",
       "      <th>3</th>\n",
       "      <td>-122.25</td>\n",
       "      <td>37.85</td>\n",
       "      <td>52</td>\n",
       "      <td>1274</td>\n",
       "      <td>235.0</td>\n",
       "      <td>558</td>\n",
       "      <td>219</td>\n",
       "      <td>5.6431</td>\n",
       "      <td>NEAR BAY</td>\n",
       "    </tr>\n",
       "    <tr>\n",
       "      <th>4</th>\n",
       "      <td>-122.25</td>\n",
       "      <td>37.85</td>\n",
       "      <td>52</td>\n",
       "      <td>1627</td>\n",
       "      <td>280.0</td>\n",
       "      <td>565</td>\n",
       "      <td>259</td>\n",
       "      <td>3.8462</td>\n",
       "      <td>NEAR BAY</td>\n",
       "    </tr>\n",
       "  </tbody>\n",
       "</table>\n",
       "</div>"
      ],
      "text/plain": [
       "   longitude  latitude  housing_median_age  total_rooms  total_bedrooms  \\\n",
       "0    -122.23     37.88                  41          880           129.0   \n",
       "1    -122.22     37.86                  21         7099          1106.0   \n",
       "2    -122.24     37.85                  52         1467           190.0   \n",
       "3    -122.25     37.85                  52         1274           235.0   \n",
       "4    -122.25     37.85                  52         1627           280.0   \n",
       "\n",
       "   population  households  median_income ocean_proximity  \n",
       "0         322         126         8.3252        NEAR BAY  \n",
       "1        2401        1138         8.3014        NEAR BAY  \n",
       "2         496         177         7.2574        NEAR BAY  \n",
       "3         558         219         5.6431        NEAR BAY  \n",
       "4         565         259         3.8462        NEAR BAY  "
      ]
     },
     "execution_count": 14,
     "metadata": {},
     "output_type": "execute_result"
    }
   ],
   "source": [
    "df_x.head()\n",
    "\n",
    "#Here ocean_proximity is the categorical column. It need to convert into numberical data using Encoding."
   ]
  },
  {
   "cell_type": "code",
   "execution_count": 15,
   "id": "4edcef8a",
   "metadata": {},
   "outputs": [
    {
     "data": {
      "text/plain": [
       "array(['NEAR BAY', '<1H OCEAN', 'INLAND', 'NEAR OCEAN', 'ISLAND'],\n",
       "      dtype=object)"
      ]
     },
     "execution_count": 15,
     "metadata": {},
     "output_type": "execute_result"
    }
   ],
   "source": [
    "df_x['ocean_proximity'].unique()  #we see 5 types of categories in ocean_proximity"
   ]
  },
  {
   "cell_type": "code",
   "execution_count": 16,
   "id": "5094a491",
   "metadata": {},
   "outputs": [
    {
     "data": {
      "text/html": [
       "<div>\n",
       "<style scoped>\n",
       "    .dataframe tbody tr th:only-of-type {\n",
       "        vertical-align: middle;\n",
       "    }\n",
       "\n",
       "    .dataframe tbody tr th {\n",
       "        vertical-align: top;\n",
       "    }\n",
       "\n",
       "    .dataframe thead th {\n",
       "        text-align: right;\n",
       "    }\n",
       "</style>\n",
       "<table border=\"1\" class=\"dataframe\">\n",
       "  <thead>\n",
       "    <tr style=\"text-align: right;\">\n",
       "      <th></th>\n",
       "      <th>longitude</th>\n",
       "      <th>latitude</th>\n",
       "      <th>housing_median_age</th>\n",
       "      <th>total_rooms</th>\n",
       "      <th>total_bedrooms</th>\n",
       "      <th>population</th>\n",
       "      <th>households</th>\n",
       "      <th>median_income</th>\n",
       "      <th>ocean_proximity</th>\n",
       "    </tr>\n",
       "  </thead>\n",
       "  <tbody>\n",
       "    <tr>\n",
       "      <th>0</th>\n",
       "      <td>-122.23</td>\n",
       "      <td>37.88</td>\n",
       "      <td>41</td>\n",
       "      <td>880</td>\n",
       "      <td>129.0</td>\n",
       "      <td>322</td>\n",
       "      <td>126</td>\n",
       "      <td>8.3252</td>\n",
       "      <td>3</td>\n",
       "    </tr>\n",
       "    <tr>\n",
       "      <th>1</th>\n",
       "      <td>-122.22</td>\n",
       "      <td>37.86</td>\n",
       "      <td>21</td>\n",
       "      <td>7099</td>\n",
       "      <td>1106.0</td>\n",
       "      <td>2401</td>\n",
       "      <td>1138</td>\n",
       "      <td>8.3014</td>\n",
       "      <td>3</td>\n",
       "    </tr>\n",
       "    <tr>\n",
       "      <th>2</th>\n",
       "      <td>-122.24</td>\n",
       "      <td>37.85</td>\n",
       "      <td>52</td>\n",
       "      <td>1467</td>\n",
       "      <td>190.0</td>\n",
       "      <td>496</td>\n",
       "      <td>177</td>\n",
       "      <td>7.2574</td>\n",
       "      <td>3</td>\n",
       "    </tr>\n",
       "    <tr>\n",
       "      <th>3</th>\n",
       "      <td>-122.25</td>\n",
       "      <td>37.85</td>\n",
       "      <td>52</td>\n",
       "      <td>1274</td>\n",
       "      <td>235.0</td>\n",
       "      <td>558</td>\n",
       "      <td>219</td>\n",
       "      <td>5.6431</td>\n",
       "      <td>3</td>\n",
       "    </tr>\n",
       "    <tr>\n",
       "      <th>4</th>\n",
       "      <td>-122.25</td>\n",
       "      <td>37.85</td>\n",
       "      <td>52</td>\n",
       "      <td>1627</td>\n",
       "      <td>280.0</td>\n",
       "      <td>565</td>\n",
       "      <td>259</td>\n",
       "      <td>3.8462</td>\n",
       "      <td>3</td>\n",
       "    </tr>\n",
       "  </tbody>\n",
       "</table>\n",
       "</div>"
      ],
      "text/plain": [
       "   longitude  latitude  housing_median_age  total_rooms  total_bedrooms  \\\n",
       "0    -122.23     37.88                  41          880           129.0   \n",
       "1    -122.22     37.86                  21         7099          1106.0   \n",
       "2    -122.24     37.85                  52         1467           190.0   \n",
       "3    -122.25     37.85                  52         1274           235.0   \n",
       "4    -122.25     37.85                  52         1627           280.0   \n",
       "\n",
       "   population  households  median_income  ocean_proximity  \n",
       "0         322         126         8.3252                3  \n",
       "1        2401        1138         8.3014                3  \n",
       "2         496         177         7.2574                3  \n",
       "3         558         219         5.6431                3  \n",
       "4         565         259         3.8462                3  "
      ]
     },
     "execution_count": 16,
     "metadata": {},
     "output_type": "execute_result"
    }
   ],
   "source": [
    "label_encoder = preprocessing.LabelEncoder()  #took from sklearn library\n",
    "\n",
    "df_x['ocean_proximity'] = label_encoder.fit_transform(df_x['ocean_proximity'])\n",
    "\n",
    "df_x.head()"
   ]
  },
  {
   "cell_type": "code",
   "execution_count": 17,
   "id": "d45462b4",
   "metadata": {},
   "outputs": [
    {
     "data": {
      "text/plain": [
       "array([3, 0, 1, 4, 2])"
      ]
     },
     "execution_count": 17,
     "metadata": {},
     "output_type": "execute_result"
    }
   ],
   "source": [
    "df_x['ocean_proximity'].unique()\n",
    "\n",
    "#converted categorical column into numercial data"
   ]
  },
  {
   "cell_type": "markdown",
   "id": "08ca2e55",
   "metadata": {},
   "source": [
    "#### 4. Split the dataset : \n",
    "\n",
    "    Split the data into 80% training dataset and 20% test dataset."
   ]
  },
  {
   "cell_type": "code",
   "execution_count": 18,
   "id": "1993b19b",
   "metadata": {},
   "outputs": [],
   "source": [
    "xtrain, xtest, ytrain, ytest = train_test_split(df_x,df_y,test_size = 0.2)"
   ]
  },
  {
   "cell_type": "code",
   "execution_count": 19,
   "id": "bedb9877",
   "metadata": {},
   "outputs": [
    {
     "data": {
      "text/plain": [
       "((20640, 9), (20640,))"
      ]
     },
     "execution_count": 19,
     "metadata": {},
     "output_type": "execute_result"
    }
   ],
   "source": [
    "df_x.shape, df_y.shape #100% data"
   ]
  },
  {
   "cell_type": "code",
   "execution_count": 20,
   "id": "c38c6060",
   "metadata": {},
   "outputs": [
    {
     "data": {
      "text/plain": [
       "((16512, 9), (16512,))"
      ]
     },
     "execution_count": 20,
     "metadata": {},
     "output_type": "execute_result"
    }
   ],
   "source": [
    "xtrain.shape, ytrain.shape #80% train data"
   ]
  },
  {
   "cell_type": "code",
   "execution_count": 21,
   "id": "e2bab552",
   "metadata": {},
   "outputs": [
    {
     "data": {
      "text/plain": [
       "((4128, 9), (4128,))"
      ]
     },
     "execution_count": 21,
     "metadata": {},
     "output_type": "execute_result"
    }
   ],
   "source": [
    "xtest.shape, ytest.shape #20% test data"
   ]
  },
  {
   "cell_type": "markdown",
   "id": "abaac265",
   "metadata": {},
   "source": [
    "#### 5. Standardize data :\n",
    "\n",
    "    Standardize training and test datasets."
   ]
  },
  {
   "cell_type": "code",
   "execution_count": 22,
   "id": "7f81c33e",
   "metadata": {},
   "outputs": [
    {
     "data": {
      "text/html": [
       "<div>\n",
       "<style scoped>\n",
       "    .dataframe tbody tr th:only-of-type {\n",
       "        vertical-align: middle;\n",
       "    }\n",
       "\n",
       "    .dataframe tbody tr th {\n",
       "        vertical-align: top;\n",
       "    }\n",
       "\n",
       "    .dataframe thead th {\n",
       "        text-align: right;\n",
       "    }\n",
       "</style>\n",
       "<table border=\"1\" class=\"dataframe\">\n",
       "  <thead>\n",
       "    <tr style=\"text-align: right;\">\n",
       "      <th></th>\n",
       "      <th>longitude</th>\n",
       "      <th>latitude</th>\n",
       "      <th>housing_median_age</th>\n",
       "      <th>total_rooms</th>\n",
       "      <th>total_bedrooms</th>\n",
       "      <th>population</th>\n",
       "      <th>households</th>\n",
       "      <th>median_income</th>\n",
       "      <th>ocean_proximity</th>\n",
       "    </tr>\n",
       "  </thead>\n",
       "  <tbody>\n",
       "    <tr>\n",
       "      <th>count</th>\n",
       "      <td>20640.000000</td>\n",
       "      <td>20640.000000</td>\n",
       "      <td>20640.000000</td>\n",
       "      <td>20640.000000</td>\n",
       "      <td>20640.000000</td>\n",
       "      <td>20640.000000</td>\n",
       "      <td>20640.000000</td>\n",
       "      <td>20640.000000</td>\n",
       "      <td>20640.000000</td>\n",
       "    </tr>\n",
       "    <tr>\n",
       "      <th>mean</th>\n",
       "      <td>-119.569704</td>\n",
       "      <td>35.631861</td>\n",
       "      <td>28.639486</td>\n",
       "      <td>2635.763081</td>\n",
       "      <td>537.861822</td>\n",
       "      <td>1425.476744</td>\n",
       "      <td>499.539680</td>\n",
       "      <td>3.870671</td>\n",
       "      <td>1.165843</td>\n",
       "    </tr>\n",
       "    <tr>\n",
       "      <th>std</th>\n",
       "      <td>2.003532</td>\n",
       "      <td>2.135952</td>\n",
       "      <td>12.585558</td>\n",
       "      <td>2181.615252</td>\n",
       "      <td>419.266601</td>\n",
       "      <td>1132.462122</td>\n",
       "      <td>382.329753</td>\n",
       "      <td>1.899822</td>\n",
       "      <td>1.420662</td>\n",
       "    </tr>\n",
       "    <tr>\n",
       "      <th>min</th>\n",
       "      <td>-124.350000</td>\n",
       "      <td>32.540000</td>\n",
       "      <td>1.000000</td>\n",
       "      <td>2.000000</td>\n",
       "      <td>1.000000</td>\n",
       "      <td>3.000000</td>\n",
       "      <td>1.000000</td>\n",
       "      <td>0.499900</td>\n",
       "      <td>0.000000</td>\n",
       "    </tr>\n",
       "    <tr>\n",
       "      <th>25%</th>\n",
       "      <td>-121.800000</td>\n",
       "      <td>33.930000</td>\n",
       "      <td>18.000000</td>\n",
       "      <td>1447.750000</td>\n",
       "      <td>297.000000</td>\n",
       "      <td>787.000000</td>\n",
       "      <td>280.000000</td>\n",
       "      <td>2.563400</td>\n",
       "      <td>0.000000</td>\n",
       "    </tr>\n",
       "    <tr>\n",
       "      <th>50%</th>\n",
       "      <td>-118.490000</td>\n",
       "      <td>34.260000</td>\n",
       "      <td>29.000000</td>\n",
       "      <td>2127.000000</td>\n",
       "      <td>438.000000</td>\n",
       "      <td>1166.000000</td>\n",
       "      <td>409.000000</td>\n",
       "      <td>3.534800</td>\n",
       "      <td>1.000000</td>\n",
       "    </tr>\n",
       "    <tr>\n",
       "      <th>75%</th>\n",
       "      <td>-118.010000</td>\n",
       "      <td>37.710000</td>\n",
       "      <td>37.000000</td>\n",
       "      <td>3148.000000</td>\n",
       "      <td>643.250000</td>\n",
       "      <td>1725.000000</td>\n",
       "      <td>605.000000</td>\n",
       "      <td>4.743250</td>\n",
       "      <td>1.000000</td>\n",
       "    </tr>\n",
       "    <tr>\n",
       "      <th>max</th>\n",
       "      <td>-114.310000</td>\n",
       "      <td>41.950000</td>\n",
       "      <td>52.000000</td>\n",
       "      <td>39320.000000</td>\n",
       "      <td>6445.000000</td>\n",
       "      <td>35682.000000</td>\n",
       "      <td>6082.000000</td>\n",
       "      <td>15.000100</td>\n",
       "      <td>4.000000</td>\n",
       "    </tr>\n",
       "  </tbody>\n",
       "</table>\n",
       "</div>"
      ],
      "text/plain": [
       "          longitude      latitude  housing_median_age   total_rooms  \\\n",
       "count  20640.000000  20640.000000        20640.000000  20640.000000   \n",
       "mean    -119.569704     35.631861           28.639486   2635.763081   \n",
       "std        2.003532      2.135952           12.585558   2181.615252   \n",
       "min     -124.350000     32.540000            1.000000      2.000000   \n",
       "25%     -121.800000     33.930000           18.000000   1447.750000   \n",
       "50%     -118.490000     34.260000           29.000000   2127.000000   \n",
       "75%     -118.010000     37.710000           37.000000   3148.000000   \n",
       "max     -114.310000     41.950000           52.000000  39320.000000   \n",
       "\n",
       "       total_bedrooms    population    households  median_income  \\\n",
       "count    20640.000000  20640.000000  20640.000000   20640.000000   \n",
       "mean       537.861822   1425.476744    499.539680       3.870671   \n",
       "std        419.266601   1132.462122    382.329753       1.899822   \n",
       "min          1.000000      3.000000      1.000000       0.499900   \n",
       "25%        297.000000    787.000000    280.000000       2.563400   \n",
       "50%        438.000000   1166.000000    409.000000       3.534800   \n",
       "75%        643.250000   1725.000000    605.000000       4.743250   \n",
       "max       6445.000000  35682.000000   6082.000000      15.000100   \n",
       "\n",
       "       ocean_proximity  \n",
       "count     20640.000000  \n",
       "mean          1.165843  \n",
       "std           1.420662  \n",
       "min           0.000000  \n",
       "25%           0.000000  \n",
       "50%           1.000000  \n",
       "75%           1.000000  \n",
       "max           4.000000  "
      ]
     },
     "execution_count": 22,
     "metadata": {},
     "output_type": "execute_result"
    }
   ],
   "source": [
    "df_x.describe()"
   ]
  },
  {
   "cell_type": "code",
   "execution_count": 23,
   "id": "bd05f94c",
   "metadata": {
    "scrolled": true
   },
   "outputs": [
    {
     "data": {
      "text/html": [
       "<div>\n",
       "<style scoped>\n",
       "    .dataframe tbody tr th:only-of-type {\n",
       "        vertical-align: middle;\n",
       "    }\n",
       "\n",
       "    .dataframe tbody tr th {\n",
       "        vertical-align: top;\n",
       "    }\n",
       "\n",
       "    .dataframe thead th {\n",
       "        text-align: right;\n",
       "    }\n",
       "</style>\n",
       "<table border=\"1\" class=\"dataframe\">\n",
       "  <thead>\n",
       "    <tr style=\"text-align: right;\">\n",
       "      <th></th>\n",
       "      <th>longitude</th>\n",
       "      <th>latitude</th>\n",
       "      <th>housing_median_age</th>\n",
       "      <th>total_rooms</th>\n",
       "      <th>total_bedrooms</th>\n",
       "      <th>population</th>\n",
       "      <th>households</th>\n",
       "      <th>median_income</th>\n",
       "      <th>ocean_proximity</th>\n",
       "    </tr>\n",
       "  </thead>\n",
       "  <tbody>\n",
       "    <tr>\n",
       "      <th>count</th>\n",
       "      <td>0.0</td>\n",
       "      <td>20640.000000</td>\n",
       "      <td>20640.000000</td>\n",
       "      <td>20640.000000</td>\n",
       "      <td>20640.000000</td>\n",
       "      <td>20640.000000</td>\n",
       "      <td>20640.000000</td>\n",
       "      <td>20640.000000</td>\n",
       "      <td>2.064000e+04</td>\n",
       "    </tr>\n",
       "    <tr>\n",
       "      <th>mean</th>\n",
       "      <td>NaN</td>\n",
       "      <td>3.571471</td>\n",
       "      <td>3.225135</td>\n",
       "      <td>7.628577</td>\n",
       "      <td>6.053419</td>\n",
       "      <td>7.024116</td>\n",
       "      <td>5.980806</td>\n",
       "      <td>1.244465</td>\n",
       "      <td>-inf</td>\n",
       "    </tr>\n",
       "    <tr>\n",
       "      <th>std</th>\n",
       "      <td>NaN</td>\n",
       "      <td>0.059253</td>\n",
       "      <td>0.567748</td>\n",
       "      <td>0.751536</td>\n",
       "      <td>0.729477</td>\n",
       "      <td>0.738524</td>\n",
       "      <td>0.733071</td>\n",
       "      <td>0.470653</td>\n",
       "      <td>NaN</td>\n",
       "    </tr>\n",
       "    <tr>\n",
       "      <th>min</th>\n",
       "      <td>NaN</td>\n",
       "      <td>3.482470</td>\n",
       "      <td>0.000000</td>\n",
       "      <td>0.693147</td>\n",
       "      <td>0.000000</td>\n",
       "      <td>1.098612</td>\n",
       "      <td>0.000000</td>\n",
       "      <td>-0.693347</td>\n",
       "      <td>-inf</td>\n",
       "    </tr>\n",
       "    <tr>\n",
       "      <th>25%</th>\n",
       "      <td>NaN</td>\n",
       "      <td>3.524300</td>\n",
       "      <td>2.890372</td>\n",
       "      <td>7.277766</td>\n",
       "      <td>5.693732</td>\n",
       "      <td>6.668228</td>\n",
       "      <td>5.634790</td>\n",
       "      <td>0.941334</td>\n",
       "      <td>NaN</td>\n",
       "    </tr>\n",
       "    <tr>\n",
       "      <th>50%</th>\n",
       "      <td>NaN</td>\n",
       "      <td>3.533978</td>\n",
       "      <td>3.367296</td>\n",
       "      <td>7.662468</td>\n",
       "      <td>6.082219</td>\n",
       "      <td>7.061334</td>\n",
       "      <td>6.013715</td>\n",
       "      <td>1.262657</td>\n",
       "      <td>0.000000e+00</td>\n",
       "    </tr>\n",
       "    <tr>\n",
       "      <th>75%</th>\n",
       "      <td>NaN</td>\n",
       "      <td>3.629925</td>\n",
       "      <td>3.610918</td>\n",
       "      <td>8.054523</td>\n",
       "      <td>6.466533</td>\n",
       "      <td>7.452982</td>\n",
       "      <td>6.405228</td>\n",
       "      <td>1.556723</td>\n",
       "      <td>0.000000e+00</td>\n",
       "    </tr>\n",
       "    <tr>\n",
       "      <th>max</th>\n",
       "      <td>NaN</td>\n",
       "      <td>3.736478</td>\n",
       "      <td>3.951244</td>\n",
       "      <td>10.579489</td>\n",
       "      <td>8.771060</td>\n",
       "      <td>10.482402</td>\n",
       "      <td>8.713089</td>\n",
       "      <td>2.708057</td>\n",
       "      <td>1.386294e+00</td>\n",
       "    </tr>\n",
       "  </tbody>\n",
       "</table>\n",
       "</div>"
      ],
      "text/plain": [
       "       longitude      latitude  housing_median_age   total_rooms  \\\n",
       "count        0.0  20640.000000        20640.000000  20640.000000   \n",
       "mean         NaN      3.571471            3.225135      7.628577   \n",
       "std          NaN      0.059253            0.567748      0.751536   \n",
       "min          NaN      3.482470            0.000000      0.693147   \n",
       "25%          NaN      3.524300            2.890372      7.277766   \n",
       "50%          NaN      3.533978            3.367296      7.662468   \n",
       "75%          NaN      3.629925            3.610918      8.054523   \n",
       "max          NaN      3.736478            3.951244     10.579489   \n",
       "\n",
       "       total_bedrooms    population    households  median_income  \\\n",
       "count    20640.000000  20640.000000  20640.000000   20640.000000   \n",
       "mean         6.053419      7.024116      5.980806       1.244465   \n",
       "std          0.729477      0.738524      0.733071       0.470653   \n",
       "min          0.000000      1.098612      0.000000      -0.693347   \n",
       "25%          5.693732      6.668228      5.634790       0.941334   \n",
       "50%          6.082219      7.061334      6.013715       1.262657   \n",
       "75%          6.466533      7.452982      6.405228       1.556723   \n",
       "max          8.771060     10.482402      8.713089       2.708057   \n",
       "\n",
       "       ocean_proximity  \n",
       "count     2.064000e+04  \n",
       "mean              -inf  \n",
       "std                NaN  \n",
       "min               -inf  \n",
       "25%                NaN  \n",
       "50%       0.000000e+00  \n",
       "75%       0.000000e+00  \n",
       "max       1.386294e+00  "
      ]
     },
     "execution_count": 23,
     "metadata": {},
     "output_type": "execute_result"
    }
   ],
   "source": [
    "df_x2 = np.log(df_x)\n",
    "\n",
    "df_x2.describe()\n",
    "\n",
    "#Here we can observed after standardizing the data of data set df_x we see nan values in longitutue and ocean_proximity\\\n",
    "#this is because of very less values to log scale in longitude column and ocean_proximity column had encoded which\\\n",
    "#reflects low values like 0,1,2,3. This values showns the nan and -inf in the ocean_proximity column\n",
    "\n",
    "#Here I need to perform log value to the feature variables (xtrain, xtest) by droping the longtitude and ocean_proximity column\\\n",
    "#Actually longitude and latitude columns will has not have much drastic value change."
   ]
  },
  {
   "cell_type": "code",
   "execution_count": 24,
   "id": "3afd36be",
   "metadata": {},
   "outputs": [],
   "source": [
    "col = xtrain.drop(['longitude','ocean_proximity'], axis = 1).columns\n",
    "\n",
    "for i in col:\n",
    "    xtrain[i] = np.log(xtrain[i])\n",
    "    xtest[i] = np.log(xtest[i])    "
   ]
  },
  {
   "cell_type": "code",
   "execution_count": 25,
   "id": "622f386d",
   "metadata": {
    "scrolled": true
   },
   "outputs": [
    {
     "data": {
      "text/html": [
       "<div>\n",
       "<style scoped>\n",
       "    .dataframe tbody tr th:only-of-type {\n",
       "        vertical-align: middle;\n",
       "    }\n",
       "\n",
       "    .dataframe tbody tr th {\n",
       "        vertical-align: top;\n",
       "    }\n",
       "\n",
       "    .dataframe thead th {\n",
       "        text-align: right;\n",
       "    }\n",
       "</style>\n",
       "<table border=\"1\" class=\"dataframe\">\n",
       "  <thead>\n",
       "    <tr style=\"text-align: right;\">\n",
       "      <th></th>\n",
       "      <th>longitude</th>\n",
       "      <th>latitude</th>\n",
       "      <th>housing_median_age</th>\n",
       "      <th>total_rooms</th>\n",
       "      <th>total_bedrooms</th>\n",
       "      <th>population</th>\n",
       "      <th>households</th>\n",
       "      <th>median_income</th>\n",
       "      <th>ocean_proximity</th>\n",
       "    </tr>\n",
       "  </thead>\n",
       "  <tbody>\n",
       "    <tr>\n",
       "      <th>count</th>\n",
       "      <td>16512.000000</td>\n",
       "      <td>16512.000000</td>\n",
       "      <td>16512.000000</td>\n",
       "      <td>16512.000000</td>\n",
       "      <td>16512.000000</td>\n",
       "      <td>16512.000000</td>\n",
       "      <td>16512.000000</td>\n",
       "      <td>16512.000000</td>\n",
       "      <td>16512.000000</td>\n",
       "    </tr>\n",
       "    <tr>\n",
       "      <th>mean</th>\n",
       "      <td>-119.574763</td>\n",
       "      <td>3.571676</td>\n",
       "      <td>3.223438</td>\n",
       "      <td>7.628657</td>\n",
       "      <td>6.053417</td>\n",
       "      <td>7.024660</td>\n",
       "      <td>5.981160</td>\n",
       "      <td>1.245288</td>\n",
       "      <td>1.164365</td>\n",
       "    </tr>\n",
       "    <tr>\n",
       "      <th>std</th>\n",
       "      <td>1.999596</td>\n",
       "      <td>0.059313</td>\n",
       "      <td>0.568936</td>\n",
       "      <td>0.750552</td>\n",
       "      <td>0.726341</td>\n",
       "      <td>0.735816</td>\n",
       "      <td>0.729569</td>\n",
       "      <td>0.469985</td>\n",
       "      <td>1.416864</td>\n",
       "    </tr>\n",
       "    <tr>\n",
       "      <th>min</th>\n",
       "      <td>-124.350000</td>\n",
       "      <td>3.482470</td>\n",
       "      <td>0.000000</td>\n",
       "      <td>0.693147</td>\n",
       "      <td>0.693147</td>\n",
       "      <td>1.098612</td>\n",
       "      <td>0.693147</td>\n",
       "      <td>-0.693347</td>\n",
       "      <td>0.000000</td>\n",
       "    </tr>\n",
       "    <tr>\n",
       "      <th>25%</th>\n",
       "      <td>-121.790000</td>\n",
       "      <td>3.524594</td>\n",
       "      <td>2.890372</td>\n",
       "      <td>7.280525</td>\n",
       "      <td>5.697093</td>\n",
       "      <td>6.670766</td>\n",
       "      <td>5.638355</td>\n",
       "      <td>0.942494</td>\n",
       "      <td>0.000000</td>\n",
       "    </tr>\n",
       "    <tr>\n",
       "      <th>50%</th>\n",
       "      <td>-118.500000</td>\n",
       "      <td>3.533978</td>\n",
       "      <td>3.367296</td>\n",
       "      <td>7.662703</td>\n",
       "      <td>6.082219</td>\n",
       "      <td>7.060476</td>\n",
       "      <td>6.013715</td>\n",
       "      <td>1.263830</td>\n",
       "      <td>1.000000</td>\n",
       "    </tr>\n",
       "    <tr>\n",
       "      <th>75%</th>\n",
       "      <td>-118.010000</td>\n",
       "      <td>3.630190</td>\n",
       "      <td>3.610918</td>\n",
       "      <td>8.051102</td>\n",
       "      <td>6.464588</td>\n",
       "      <td>7.452982</td>\n",
       "      <td>6.401917</td>\n",
       "      <td>1.556586</td>\n",
       "      <td>1.000000</td>\n",
       "    </tr>\n",
       "    <tr>\n",
       "      <th>max</th>\n",
       "      <td>-114.470000</td>\n",
       "      <td>3.736478</td>\n",
       "      <td>3.951244</td>\n",
       "      <td>10.579489</td>\n",
       "      <td>8.771060</td>\n",
       "      <td>10.259972</td>\n",
       "      <td>8.713089</td>\n",
       "      <td>2.708057</td>\n",
       "      <td>4.000000</td>\n",
       "    </tr>\n",
       "  </tbody>\n",
       "</table>\n",
       "</div>"
      ],
      "text/plain": [
       "          longitude      latitude  housing_median_age   total_rooms  \\\n",
       "count  16512.000000  16512.000000        16512.000000  16512.000000   \n",
       "mean    -119.574763      3.571676            3.223438      7.628657   \n",
       "std        1.999596      0.059313            0.568936      0.750552   \n",
       "min     -124.350000      3.482470            0.000000      0.693147   \n",
       "25%     -121.790000      3.524594            2.890372      7.280525   \n",
       "50%     -118.500000      3.533978            3.367296      7.662703   \n",
       "75%     -118.010000      3.630190            3.610918      8.051102   \n",
       "max     -114.470000      3.736478            3.951244     10.579489   \n",
       "\n",
       "       total_bedrooms    population    households  median_income  \\\n",
       "count    16512.000000  16512.000000  16512.000000   16512.000000   \n",
       "mean         6.053417      7.024660      5.981160       1.245288   \n",
       "std          0.726341      0.735816      0.729569       0.469985   \n",
       "min          0.693147      1.098612      0.693147      -0.693347   \n",
       "25%          5.697093      6.670766      5.638355       0.942494   \n",
       "50%          6.082219      7.060476      6.013715       1.263830   \n",
       "75%          6.464588      7.452982      6.401917       1.556586   \n",
       "max          8.771060     10.259972      8.713089       2.708057   \n",
       "\n",
       "       ocean_proximity  \n",
       "count     16512.000000  \n",
       "mean          1.164365  \n",
       "std           1.416864  \n",
       "min           0.000000  \n",
       "25%           0.000000  \n",
       "50%           1.000000  \n",
       "75%           1.000000  \n",
       "max           4.000000  "
      ]
     },
     "execution_count": 25,
     "metadata": {},
     "output_type": "execute_result"
    }
   ],
   "source": [
    "xtrain.describe()"
   ]
  },
  {
   "cell_type": "code",
   "execution_count": 26,
   "id": "eae420b7",
   "metadata": {
    "scrolled": true
   },
   "outputs": [
    {
     "data": {
      "text/html": [
       "<div>\n",
       "<style scoped>\n",
       "    .dataframe tbody tr th:only-of-type {\n",
       "        vertical-align: middle;\n",
       "    }\n",
       "\n",
       "    .dataframe tbody tr th {\n",
       "        vertical-align: top;\n",
       "    }\n",
       "\n",
       "    .dataframe thead th {\n",
       "        text-align: right;\n",
       "    }\n",
       "</style>\n",
       "<table border=\"1\" class=\"dataframe\">\n",
       "  <thead>\n",
       "    <tr style=\"text-align: right;\">\n",
       "      <th></th>\n",
       "      <th>longitude</th>\n",
       "      <th>latitude</th>\n",
       "      <th>housing_median_age</th>\n",
       "      <th>total_rooms</th>\n",
       "      <th>total_bedrooms</th>\n",
       "      <th>population</th>\n",
       "      <th>households</th>\n",
       "      <th>median_income</th>\n",
       "      <th>ocean_proximity</th>\n",
       "    </tr>\n",
       "  </thead>\n",
       "  <tbody>\n",
       "    <tr>\n",
       "      <th>count</th>\n",
       "      <td>4128.000000</td>\n",
       "      <td>4128.000000</td>\n",
       "      <td>4128.000000</td>\n",
       "      <td>4128.000000</td>\n",
       "      <td>4128.000000</td>\n",
       "      <td>4128.000000</td>\n",
       "      <td>4128.000000</td>\n",
       "      <td>4128.000000</td>\n",
       "      <td>4128.000000</td>\n",
       "    </tr>\n",
       "    <tr>\n",
       "      <th>mean</th>\n",
       "      <td>-119.549472</td>\n",
       "      <td>3.570653</td>\n",
       "      <td>3.231920</td>\n",
       "      <td>7.628258</td>\n",
       "      <td>6.053428</td>\n",
       "      <td>7.021937</td>\n",
       "      <td>5.979388</td>\n",
       "      <td>1.241173</td>\n",
       "      <td>1.171754</td>\n",
       "    </tr>\n",
       "    <tr>\n",
       "      <th>std</th>\n",
       "      <td>2.019315</td>\n",
       "      <td>0.059010</td>\n",
       "      <td>0.562985</td>\n",
       "      <td>0.755551</td>\n",
       "      <td>0.741980</td>\n",
       "      <td>0.749345</td>\n",
       "      <td>0.747000</td>\n",
       "      <td>0.473358</td>\n",
       "      <td>1.435912</td>\n",
       "    </tr>\n",
       "    <tr>\n",
       "      <th>min</th>\n",
       "      <td>-124.300000</td>\n",
       "      <td>3.483085</td>\n",
       "      <td>0.693147</td>\n",
       "      <td>2.079442</td>\n",
       "      <td>0.000000</td>\n",
       "      <td>1.609438</td>\n",
       "      <td>0.000000</td>\n",
       "      <td>-0.693347</td>\n",
       "      <td>0.000000</td>\n",
       "    </tr>\n",
       "    <tr>\n",
       "      <th>25%</th>\n",
       "      <td>-121.810000</td>\n",
       "      <td>3.524005</td>\n",
       "      <td>2.890372</td>\n",
       "      <td>7.267351</td>\n",
       "      <td>5.676754</td>\n",
       "      <td>6.658973</td>\n",
       "      <td>5.616771</td>\n",
       "      <td>0.935985</td>\n",
       "      <td>0.000000</td>\n",
       "    </tr>\n",
       "    <tr>\n",
       "      <th>50%</th>\n",
       "      <td>-118.475000</td>\n",
       "      <td>3.533687</td>\n",
       "      <td>3.367296</td>\n",
       "      <td>7.658935</td>\n",
       "      <td>6.081076</td>\n",
       "      <td>7.067746</td>\n",
       "      <td>6.016157</td>\n",
       "      <td>1.258347</td>\n",
       "      <td>1.000000</td>\n",
       "    </tr>\n",
       "    <tr>\n",
       "      <th>75%</th>\n",
       "      <td>-117.990000</td>\n",
       "      <td>3.629129</td>\n",
       "      <td>3.610918</td>\n",
       "      <td>8.064794</td>\n",
       "      <td>6.473891</td>\n",
       "      <td>7.453127</td>\n",
       "      <td>6.410586</td>\n",
       "      <td>1.556881</td>\n",
       "      <td>1.000000</td>\n",
       "    </tr>\n",
       "    <tr>\n",
       "      <th>max</th>\n",
       "      <td>-114.310000</td>\n",
       "      <td>3.734331</td>\n",
       "      <td>3.951244</td>\n",
       "      <td>10.543682</td>\n",
       "      <td>8.607217</td>\n",
       "      <td>10.482402</td>\n",
       "      <td>8.554296</td>\n",
       "      <td>2.708057</td>\n",
       "      <td>4.000000</td>\n",
       "    </tr>\n",
       "  </tbody>\n",
       "</table>\n",
       "</div>"
      ],
      "text/plain": [
       "         longitude     latitude  housing_median_age  total_rooms  \\\n",
       "count  4128.000000  4128.000000         4128.000000  4128.000000   \n",
       "mean   -119.549472     3.570653            3.231920     7.628258   \n",
       "std       2.019315     0.059010            0.562985     0.755551   \n",
       "min    -124.300000     3.483085            0.693147     2.079442   \n",
       "25%    -121.810000     3.524005            2.890372     7.267351   \n",
       "50%    -118.475000     3.533687            3.367296     7.658935   \n",
       "75%    -117.990000     3.629129            3.610918     8.064794   \n",
       "max    -114.310000     3.734331            3.951244    10.543682   \n",
       "\n",
       "       total_bedrooms   population   households  median_income  \\\n",
       "count     4128.000000  4128.000000  4128.000000    4128.000000   \n",
       "mean         6.053428     7.021937     5.979388       1.241173   \n",
       "std          0.741980     0.749345     0.747000       0.473358   \n",
       "min          0.000000     1.609438     0.000000      -0.693347   \n",
       "25%          5.676754     6.658973     5.616771       0.935985   \n",
       "50%          6.081076     7.067746     6.016157       1.258347   \n",
       "75%          6.473891     7.453127     6.410586       1.556881   \n",
       "max          8.607217    10.482402     8.554296       2.708057   \n",
       "\n",
       "       ocean_proximity  \n",
       "count      4128.000000  \n",
       "mean          1.171754  \n",
       "std           1.435912  \n",
       "min           0.000000  \n",
       "25%           0.000000  \n",
       "50%           1.000000  \n",
       "75%           1.000000  \n",
       "max           4.000000  "
      ]
     },
     "execution_count": 26,
     "metadata": {},
     "output_type": "execute_result"
    }
   ],
   "source": [
    "xtest.describe()"
   ]
  },
  {
   "cell_type": "code",
   "execution_count": 27,
   "id": "6ec3a026",
   "metadata": {},
   "outputs": [],
   "source": [
    "#Now the data has standardized \n",
    "#Not performed for data sets ytrain and ytest since it is dependent feature/varibles"
   ]
  },
  {
   "cell_type": "markdown",
   "id": "2ad5c9e0",
   "metadata": {},
   "source": [
    "#### 6. Perform Linear Regression : \n",
    "\n",
    "    Perform Linear Regression on training data.\n",
    "    Predict output for test dataset using the fitted model.\n",
    "    Print root mean squared error (RMSE) from Linear Regression.\n",
    "            [ HINT: Import mean_squared_error from sklearn.metrics ]"
   ]
  },
  {
   "cell_type": "code",
   "execution_count": 28,
   "id": "ba404f35",
   "metadata": {},
   "outputs": [
    {
     "data": {
      "text/plain": [
       "LinearRegression()"
      ]
     },
     "execution_count": 28,
     "metadata": {},
     "output_type": "execute_result"
    }
   ],
   "source": [
    "lr = LinearRegression()\n",
    "\n",
    "lr.fit(xtrain,ytrain)"
   ]
  },
  {
   "cell_type": "code",
   "execution_count": 29,
   "id": "28a42664",
   "metadata": {},
   "outputs": [],
   "source": [
    "pred_xtrain = lr.predict(xtrain)\n",
    "\n",
    "pred_xtest = lr.predict(xtest)"
   ]
  },
  {
   "cell_type": "code",
   "execution_count": 30,
   "id": "d556ed68",
   "metadata": {},
   "outputs": [
    {
     "name": "stdout",
     "output_type": "stream",
     "text": [
      "MSE for Train Data: 5325174844.5893135\n",
      "MSE for Test Data: 5188799088.535319\n",
      "MAE for Train Data: 54988.863948232494\n",
      "MAE for Test Data: 54147.73816737577\n"
     ]
    }
   ],
   "source": [
    "print('MSE for Train Data:', mean_squared_error(ytrain, pred_xtrain))\n",
    "\n",
    "print('MSE for Test Data:', mean_squared_error(ytest, pred_xtest))\n",
    "\n",
    "print('MAE for Train Data:', mean_absolute_error(ytrain, pred_xtrain)) #mean absolute error for train data\n",
    "\n",
    "print('MAE for Test Data:', mean_absolute_error(ytest, pred_xtest)) #mean absolute error for test data\n",
    "\n",
    "#Observations:\n",
    "#for the model, MSE and MAE is very high values. Hence i just wanted to take data with 70 and 30 % to see if any changes."
   ]
  },
  {
   "cell_type": "code",
   "execution_count": 31,
   "id": "456c5715",
   "metadata": {},
   "outputs": [
    {
     "name": "stdout",
     "output_type": "stream",
     "text": [
      "MSE for Train Data: 5375898530.538556\n",
      "MSE for Test Data: 5119124900.880758\n",
      "MAE for Train Data: 55136.03809270871\n",
      "MAE for Test Data: 53970.58890365353\n"
     ]
    }
   ],
   "source": [
    "#Below is the code for Training data is 70 % and Testing data is 30 % ratio.\n",
    "\n",
    "xtrain2, xtest2, ytrain2, ytest2 = train_test_split(df_x,df_y,test_size = 0.3)\n",
    "\n",
    "xtrain2.shape, ytrain2.shape #70% train data\n",
    "\n",
    "xtest2.shape, ytest2.shape #30% test data\n",
    "\n",
    "col = xtrain2.drop(['longitude','ocean_proximity'], axis = 1).columns\n",
    "\n",
    "for i in col:\n",
    "    xtrain2[i] = np.log(xtrain2[i])\n",
    "    xtest2[i] = np.log(xtest2[i])\n",
    "    \n",
    "\n",
    "lr.fit(xtrain2,ytrain2)\n",
    "\n",
    "pred_xtrain2 = lr.predict(xtrain2)\n",
    "\n",
    "pred_xtest2 = lr.predict(xtest2)\n",
    "\n",
    "print('MSE for Train Data:', mean_squared_error(ytrain2, pred_xtrain2)) #mean squared error for train data\n",
    "\n",
    "print('MSE for Test Data:', mean_squared_error(ytest2, pred_xtest2)) #mean squared error for test data\n",
    "\n",
    "print('MAE for Train Data:', mean_absolute_error(ytrain2, pred_xtrain2)) #mean absolute error for train data\n",
    "\n",
    "print('MAE for Test Data:', mean_absolute_error(ytest2, pred_xtest2)) #mean absolute error for test data"
   ]
  },
  {
   "cell_type": "code",
   "execution_count": 32,
   "id": "d3cbc9a7",
   "metadata": {},
   "outputs": [],
   "source": [
    "#Observations:\n",
    "#Even after performing 70:30 ratio, No changes.\n",
    "#Hence concluding the Linear Regression model with MSE for Train data = 5333939034.923431 and \n",
    "#MSE for Test data = 5151234480.939996"
   ]
  },
  {
   "cell_type": "code",
   "execution_count": 33,
   "id": "0c8c6709",
   "metadata": {},
   "outputs": [
    {
     "data": {
      "text/html": [
       "<div>\n",
       "<style scoped>\n",
       "    .dataframe tbody tr th:only-of-type {\n",
       "        vertical-align: middle;\n",
       "    }\n",
       "\n",
       "    .dataframe tbody tr th {\n",
       "        vertical-align: top;\n",
       "    }\n",
       "\n",
       "    .dataframe thead th {\n",
       "        text-align: right;\n",
       "    }\n",
       "</style>\n",
       "<table border=\"1\" class=\"dataframe\">\n",
       "  <thead>\n",
       "    <tr style=\"text-align: right;\">\n",
       "      <th></th>\n",
       "      <th>median_house_value</th>\n",
       "      <th>pred_median_house_value</th>\n",
       "      <th>difference</th>\n",
       "    </tr>\n",
       "  </thead>\n",
       "  <tbody>\n",
       "    <tr>\n",
       "      <th>18348</th>\n",
       "      <td>500001</td>\n",
       "      <td>388392.196109</td>\n",
       "      <td>-111608.803891</td>\n",
       "    </tr>\n",
       "    <tr>\n",
       "      <th>14118</th>\n",
       "      <td>132600</td>\n",
       "      <td>250288.164005</td>\n",
       "      <td>117688.164005</td>\n",
       "    </tr>\n",
       "    <tr>\n",
       "      <th>15341</th>\n",
       "      <td>152100</td>\n",
       "      <td>213081.994320</td>\n",
       "      <td>60981.994320</td>\n",
       "    </tr>\n",
       "    <tr>\n",
       "      <th>5687</th>\n",
       "      <td>394100</td>\n",
       "      <td>313495.255768</td>\n",
       "      <td>-80604.744232</td>\n",
       "    </tr>\n",
       "    <tr>\n",
       "      <th>9381</th>\n",
       "      <td>500001</td>\n",
       "      <td>435092.116115</td>\n",
       "      <td>-64908.883885</td>\n",
       "    </tr>\n",
       "  </tbody>\n",
       "</table>\n",
       "</div>"
      ],
      "text/plain": [
       "       median_house_value  pred_median_house_value     difference\n",
       "18348              500001            388392.196109 -111608.803891\n",
       "14118              132600            250288.164005  117688.164005\n",
       "15341              152100            213081.994320   60981.994320\n",
       "5687               394100            313495.255768  -80604.744232\n",
       "9381               500001            435092.116115  -64908.883885"
      ]
     },
     "execution_count": 33,
     "metadata": {},
     "output_type": "execute_result"
    }
   ],
   "source": [
    "#Table for train data with predictions and differences\n",
    "\n",
    "a = pd.DataFrame(ytrain)\n",
    "\n",
    "a['pred_median_house_value'] = pred_xtrain\n",
    "\n",
    "a['difference'] = a['pred_median_house_value']-a['median_house_value']\n",
    "\n",
    "a.head()\n",
    "\n",
    "#Table shows the acutal house values, prediction house values and difference"
   ]
  },
  {
   "cell_type": "code",
   "execution_count": 34,
   "id": "bed6cfcd",
   "metadata": {},
   "outputs": [
    {
     "data": {
      "text/html": [
       "<div>\n",
       "<style scoped>\n",
       "    .dataframe tbody tr th:only-of-type {\n",
       "        vertical-align: middle;\n",
       "    }\n",
       "\n",
       "    .dataframe tbody tr th {\n",
       "        vertical-align: top;\n",
       "    }\n",
       "\n",
       "    .dataframe thead th {\n",
       "        text-align: right;\n",
       "    }\n",
       "</style>\n",
       "<table border=\"1\" class=\"dataframe\">\n",
       "  <thead>\n",
       "    <tr style=\"text-align: right;\">\n",
       "      <th></th>\n",
       "      <th>median_house_value</th>\n",
       "      <th>pred_median_house_value</th>\n",
       "      <th>difference</th>\n",
       "    </tr>\n",
       "  </thead>\n",
       "  <tbody>\n",
       "    <tr>\n",
       "      <th>11690</th>\n",
       "      <td>165600</td>\n",
       "      <td>185581.597735</td>\n",
       "      <td>19981.597735</td>\n",
       "    </tr>\n",
       "    <tr>\n",
       "      <th>10339</th>\n",
       "      <td>388700</td>\n",
       "      <td>295283.169302</td>\n",
       "      <td>-93416.830698</td>\n",
       "    </tr>\n",
       "    <tr>\n",
       "      <th>8486</th>\n",
       "      <td>155100</td>\n",
       "      <td>198193.547106</td>\n",
       "      <td>43093.547106</td>\n",
       "    </tr>\n",
       "    <tr>\n",
       "      <th>7260</th>\n",
       "      <td>148800</td>\n",
       "      <td>164319.332303</td>\n",
       "      <td>15519.332303</td>\n",
       "    </tr>\n",
       "    <tr>\n",
       "      <th>6286</th>\n",
       "      <td>178100</td>\n",
       "      <td>231450.816042</td>\n",
       "      <td>53350.816042</td>\n",
       "    </tr>\n",
       "  </tbody>\n",
       "</table>\n",
       "</div>"
      ],
      "text/plain": [
       "       median_house_value  pred_median_house_value    difference\n",
       "11690              165600            185581.597735  19981.597735\n",
       "10339              388700            295283.169302 -93416.830698\n",
       "8486               155100            198193.547106  43093.547106\n",
       "7260               148800            164319.332303  15519.332303\n",
       "6286               178100            231450.816042  53350.816042"
      ]
     },
     "execution_count": 34,
     "metadata": {},
     "output_type": "execute_result"
    }
   ],
   "source": [
    "#Table for test data with predictions and differences\n",
    "\n",
    "b = pd.DataFrame(ytest)\n",
    "\n",
    "b['pred_median_house_value'] = pred_xtest\n",
    "\n",
    "b['difference'] = b['pred_median_house_value']-b['median_house_value']\n",
    "\n",
    "b.head()\n",
    "\n",
    "#Table shows the acutal house values, prediction house values and difference"
   ]
  },
  {
   "cell_type": "markdown",
   "id": "0e0755e8",
   "metadata": {},
   "source": [
    "#### 7. Bonus exercise: Perform Linear Regression with one independent variable :\n",
    "\n",
    "    Extract just the median_income column from the independent variables (from X_train and X_test).\n",
    "    Perform Linear Regression to predict housing values based on median_income.\n",
    "    Predict output for test dataset using the fitted model.\n",
    "    Plot the fitted model for training data as well as for test data to check if the fitted model satisfies the test data."
   ]
  },
  {
   "cell_type": "code",
   "execution_count": 35,
   "id": "2a61b5a1",
   "metadata": {},
   "outputs": [
    {
     "data": {
      "text/plain": [
       "((16512, 9), (4128, 9))"
      ]
     },
     "execution_count": 35,
     "metadata": {},
     "output_type": "execute_result"
    }
   ],
   "source": [
    "xtrain.shape, xtest.shape"
   ]
  },
  {
   "cell_type": "code",
   "execution_count": 36,
   "id": "ca0545f5",
   "metadata": {},
   "outputs": [
    {
     "data": {
      "text/html": [
       "<div>\n",
       "<style scoped>\n",
       "    .dataframe tbody tr th:only-of-type {\n",
       "        vertical-align: middle;\n",
       "    }\n",
       "\n",
       "    .dataframe tbody tr th {\n",
       "        vertical-align: top;\n",
       "    }\n",
       "\n",
       "    .dataframe thead th {\n",
       "        text-align: right;\n",
       "    }\n",
       "</style>\n",
       "<table border=\"1\" class=\"dataframe\">\n",
       "  <thead>\n",
       "    <tr style=\"text-align: right;\">\n",
       "      <th></th>\n",
       "      <th>median_income</th>\n",
       "    </tr>\n",
       "  </thead>\n",
       "  <tbody>\n",
       "    <tr>\n",
       "      <th>18348</th>\n",
       "      <td>2.349087</td>\n",
       "    </tr>\n",
       "    <tr>\n",
       "      <th>14118</th>\n",
       "      <td>1.357483</td>\n",
       "    </tr>\n",
       "    <tr>\n",
       "      <th>15341</th>\n",
       "      <td>1.468519</td>\n",
       "    </tr>\n",
       "    <tr>\n",
       "      <th>5687</th>\n",
       "      <td>1.966595</td>\n",
       "    </tr>\n",
       "    <tr>\n",
       "      <th>9381</th>\n",
       "      <td>2.448467</td>\n",
       "    </tr>\n",
       "  </tbody>\n",
       "</table>\n",
       "</div>"
      ],
      "text/plain": [
       "       median_income\n",
       "18348       2.349087\n",
       "14118       1.357483\n",
       "15341       1.468519\n",
       "5687        1.966595\n",
       "9381        2.448467"
      ]
     },
     "execution_count": 36,
     "metadata": {},
     "output_type": "execute_result"
    }
   ],
   "source": [
    "xtrain_Bo = pd.DataFrame(xtrain['median_income'])\n",
    "\n",
    "xtrain_Bo.head()"
   ]
  },
  {
   "cell_type": "code",
   "execution_count": 37,
   "id": "1d6af0f4",
   "metadata": {},
   "outputs": [
    {
     "data": {
      "text/html": [
       "<div>\n",
       "<style scoped>\n",
       "    .dataframe tbody tr th:only-of-type {\n",
       "        vertical-align: middle;\n",
       "    }\n",
       "\n",
       "    .dataframe tbody tr th {\n",
       "        vertical-align: top;\n",
       "    }\n",
       "\n",
       "    .dataframe thead th {\n",
       "        text-align: right;\n",
       "    }\n",
       "</style>\n",
       "<table border=\"1\" class=\"dataframe\">\n",
       "  <thead>\n",
       "    <tr style=\"text-align: right;\">\n",
       "      <th></th>\n",
       "      <th>median_income</th>\n",
       "    </tr>\n",
       "  </thead>\n",
       "  <tbody>\n",
       "    <tr>\n",
       "      <th>11690</th>\n",
       "      <td>1.081805</td>\n",
       "    </tr>\n",
       "    <tr>\n",
       "      <th>10339</th>\n",
       "      <td>2.180078</td>\n",
       "    </tr>\n",
       "    <tr>\n",
       "      <th>8486</th>\n",
       "      <td>1.103500</td>\n",
       "    </tr>\n",
       "    <tr>\n",
       "      <th>7260</th>\n",
       "      <td>0.969414</td>\n",
       "    </tr>\n",
       "    <tr>\n",
       "      <th>6286</th>\n",
       "      <td>1.586251</td>\n",
       "    </tr>\n",
       "  </tbody>\n",
       "</table>\n",
       "</div>"
      ],
      "text/plain": [
       "       median_income\n",
       "11690       1.081805\n",
       "10339       2.180078\n",
       "8486        1.103500\n",
       "7260        0.969414\n",
       "6286        1.586251"
      ]
     },
     "execution_count": 37,
     "metadata": {},
     "output_type": "execute_result"
    }
   ],
   "source": [
    "xtest_Bo = pd.DataFrame(xtest['median_income'])\n",
    "\n",
    "xtest_Bo.head()"
   ]
  },
  {
   "cell_type": "code",
   "execution_count": 38,
   "id": "ff2ece3c",
   "metadata": {},
   "outputs": [
    {
     "data": {
      "text/plain": [
       "((16512, 1), (4128, 1))"
      ]
     },
     "execution_count": 38,
     "metadata": {},
     "output_type": "execute_result"
    }
   ],
   "source": [
    "xtrain_Bo.shape, xtest_Bo.shape"
   ]
  },
  {
   "cell_type": "code",
   "execution_count": 39,
   "id": "f0e5eb5a",
   "metadata": {},
   "outputs": [
    {
     "data": {
      "text/plain": [
       "LinearRegression()"
      ]
     },
     "execution_count": 39,
     "metadata": {},
     "output_type": "execute_result"
    }
   ],
   "source": [
    "lr.fit(xtrain_Bo,ytrain)"
   ]
  },
  {
   "cell_type": "code",
   "execution_count": 40,
   "id": "22393864",
   "metadata": {},
   "outputs": [],
   "source": [
    "pred_xtrain_Bo = lr.predict(xtrain_Bo)\n",
    "\n",
    "pred_xtest_Bo = lr.predict(xtest_Bo)"
   ]
  },
  {
   "cell_type": "code",
   "execution_count": 41,
   "id": "6f7b6968",
   "metadata": {},
   "outputs": [
    {
     "data": {
      "text/html": [
       "<div>\n",
       "<style scoped>\n",
       "    .dataframe tbody tr th:only-of-type {\n",
       "        vertical-align: middle;\n",
       "    }\n",
       "\n",
       "    .dataframe tbody tr th {\n",
       "        vertical-align: top;\n",
       "    }\n",
       "\n",
       "    .dataframe thead th {\n",
       "        text-align: right;\n",
       "    }\n",
       "</style>\n",
       "<table border=\"1\" class=\"dataframe\">\n",
       "  <thead>\n",
       "    <tr style=\"text-align: right;\">\n",
       "      <th></th>\n",
       "      <th>median_house_value</th>\n",
       "      <th>pred_median_house_value</th>\n",
       "      <th>difference</th>\n",
       "    </tr>\n",
       "  </thead>\n",
       "  <tbody>\n",
       "    <tr>\n",
       "      <th>18348</th>\n",
       "      <td>500001</td>\n",
       "      <td>383729.767456</td>\n",
       "      <td>-116271.232544</td>\n",
       "    </tr>\n",
       "    <tr>\n",
       "      <th>14118</th>\n",
       "      <td>132600</td>\n",
       "      <td>224941.492030</td>\n",
       "      <td>92341.492030</td>\n",
       "    </tr>\n",
       "    <tr>\n",
       "      <th>15341</th>\n",
       "      <td>152100</td>\n",
       "      <td>242722.001922</td>\n",
       "      <td>90622.001922</td>\n",
       "    </tr>\n",
       "    <tr>\n",
       "      <th>5687</th>\n",
       "      <td>394100</td>\n",
       "      <td>322480.220016</td>\n",
       "      <td>-71619.779984</td>\n",
       "    </tr>\n",
       "    <tr>\n",
       "      <th>9381</th>\n",
       "      <td>500001</td>\n",
       "      <td>399643.841307</td>\n",
       "      <td>-100357.158693</td>\n",
       "    </tr>\n",
       "  </tbody>\n",
       "</table>\n",
       "</div>"
      ],
      "text/plain": [
       "       median_house_value  pred_median_house_value     difference\n",
       "18348              500001            383729.767456 -116271.232544\n",
       "14118              132600            224941.492030   92341.492030\n",
       "15341              152100            242722.001922   90622.001922\n",
       "5687               394100            322480.220016  -71619.779984\n",
       "9381               500001            399643.841307 -100357.158693"
      ]
     },
     "execution_count": 41,
     "metadata": {},
     "output_type": "execute_result"
    }
   ],
   "source": [
    "#Table for train data with predictions and differences\n",
    "\n",
    "a = pd.DataFrame(ytrain)\n",
    "\n",
    "a['pred_median_house_value'] = pred_xtrain_Bo\n",
    "\n",
    "a['difference'] = a['pred_median_house_value']-a['median_house_value']\n",
    "\n",
    "a.head()\n",
    "\n",
    "#Table shows the acutal house values, prediction house values and difference"
   ]
  },
  {
   "cell_type": "code",
   "execution_count": 42,
   "id": "d70693c4",
   "metadata": {},
   "outputs": [
    {
     "data": {
      "text/html": [
       "<div>\n",
       "<style scoped>\n",
       "    .dataframe tbody tr th:only-of-type {\n",
       "        vertical-align: middle;\n",
       "    }\n",
       "\n",
       "    .dataframe tbody tr th {\n",
       "        vertical-align: top;\n",
       "    }\n",
       "\n",
       "    .dataframe thead th {\n",
       "        text-align: right;\n",
       "    }\n",
       "</style>\n",
       "<table border=\"1\" class=\"dataframe\">\n",
       "  <thead>\n",
       "    <tr style=\"text-align: right;\">\n",
       "      <th></th>\n",
       "      <th>median_house_value</th>\n",
       "      <th>pred_median_house_value</th>\n",
       "      <th>difference</th>\n",
       "    </tr>\n",
       "  </thead>\n",
       "  <tbody>\n",
       "    <tr>\n",
       "      <th>11690</th>\n",
       "      <td>165600</td>\n",
       "      <td>180796.382638</td>\n",
       "      <td>15196.382638</td>\n",
       "    </tr>\n",
       "    <tr>\n",
       "      <th>10339</th>\n",
       "      <td>388700</td>\n",
       "      <td>356665.960650</td>\n",
       "      <td>-32034.039350</td>\n",
       "    </tr>\n",
       "    <tr>\n",
       "      <th>8486</th>\n",
       "      <td>155100</td>\n",
       "      <td>184270.488287</td>\n",
       "      <td>29170.488287</td>\n",
       "    </tr>\n",
       "    <tr>\n",
       "      <th>7260</th>\n",
       "      <td>148800</td>\n",
       "      <td>162798.925133</td>\n",
       "      <td>13998.925133</td>\n",
       "    </tr>\n",
       "    <tr>\n",
       "      <th>6286</th>\n",
       "      <td>178100</td>\n",
       "      <td>261574.735784</td>\n",
       "      <td>83474.735784</td>\n",
       "    </tr>\n",
       "  </tbody>\n",
       "</table>\n",
       "</div>"
      ],
      "text/plain": [
       "       median_house_value  pred_median_house_value    difference\n",
       "11690              165600            180796.382638  15196.382638\n",
       "10339              388700            356665.960650 -32034.039350\n",
       "8486               155100            184270.488287  29170.488287\n",
       "7260               148800            162798.925133  13998.925133\n",
       "6286               178100            261574.735784  83474.735784"
      ]
     },
     "execution_count": 42,
     "metadata": {},
     "output_type": "execute_result"
    }
   ],
   "source": [
    "#Table for test data with predictions and differences\n",
    "\n",
    "b = pd.DataFrame(ytest)\n",
    "\n",
    "b['pred_median_house_value'] = pred_xtest_Bo\n",
    "\n",
    "b['difference'] = b['pred_median_house_value']-b['median_house_value']\n",
    "\n",
    "b.head()\n",
    "\n",
    "#Table shows the acutal house values, prediction house values and difference"
   ]
  },
  {
   "cell_type": "code",
   "execution_count": 43,
   "id": "30ef8c13",
   "metadata": {},
   "outputs": [
    {
     "data": {
      "text/plain": [
       "Text(0, 0.5, 'Predicted')"
      ]
     },
     "execution_count": 43,
     "metadata": {},
     "output_type": "execute_result"
    },
    {
     "data": {
      "image/png": "[encoded data removed]",
      "text/plain": [
       "<Figure size 1080x720 with 1 Axes>"
      ]
     },
     "metadata": {
      "needs_background": "light"
     },
     "output_type": "display_data"
    }
   ],
   "source": [
    "#scatter plot for train data\n",
    "\n",
    "plt.figure(figsize=(15,10))\n",
    "plt.scatter(ytrain,pred_xtrain_Bo,c = 'green')\n",
    "plt.plot([ytrain.min(),ytrain.max()],[ytrain.min(),ytrain.max()], 'k--', c = 'blue', lw = 3)\n",
    "plt.xlabel('Actual')\n",
    "plt.ylabel('Predicted')"
   ]
  },
  {
   "cell_type": "code",
   "execution_count": 44,
   "id": "bc895bcd",
   "metadata": {
    "scrolled": false
   },
   "outputs": [
    {
     "data": {
      "text/plain": [
       "Text(0, 0.5, 'Predicted')"
      ]
     },
     "execution_count": 44,
     "metadata": {},
     "output_type": "execute_result"
    },
    {
     "data": {
      "image/png": "[encoded data removed]",
      "text/plain": [
       "<Figure size 1080x720 with 1 Axes>"
      ]
     },
     "metadata": {
      "needs_background": "light"
     },
     "output_type": "display_data"
    }
   ],
   "source": [
    "#scatter plot for test data\n",
    "\n",
    "plt.figure(figsize=(15,10))\n",
    "plt.scatter(ytest,pred_xtest_Bo,c = 'green')\n",
    "plt.plot([ytest.min(),ytest.max()],[ytest.min(),ytest.max()], 'k--', c = 'blue', lw = 3)\n",
    "plt.xlabel('Actual')\n",
    "plt.ylabel('Predicted')"
   ]
  },
  {
   "cell_type": "markdown",
   "id": "c3014756",
   "metadata": {},
   "source": [
    "# END"
   ]
  }
 ],
 "metadata": {
  "kernelspec": {
   "display_name": "Python 3 (ipykernel)",
   "language": "python",
   "name": "python3"
  },
  "language_info": {
   "codemirror_mode": {
    "name": "ipython",
    "version": 3
   },
   "file_extension": ".py",
   "mimetype": "text/x-python",
   "name": "python",
   "nbconvert_exporter": "python",
   "pygments_lexer": "ipython3",
   "version": "3.9.12"
  }
 },
 "nbformat": 4,
 "nbformat_minor": 5
}
